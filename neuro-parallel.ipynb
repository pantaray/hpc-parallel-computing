{
 "cells": [
  {
   "cell_type": "code",
   "execution_count": 1,
   "id": "67841719-1c54-4dd1-bc52-21d78678c746",
   "metadata": {},
   "outputs": [],
   "source": [
    "%matplotlib widget\n",
    "from nilearn_tools import compute_connectome, subjectList\n",
    "from acme import ParallelMap, esi_cluster_setup"
   ]
  },
  {
   "cell_type": "code",
   "execution_count": 2,
   "id": "fe2a938e",
   "metadata": {},
   "outputs": [
    {
     "name": "stderr",
     "output_type": "stream",
     "text": [
      "/opt/conda/envs/esi-2023a/lib/python3.10/site-packages/distributed/node.py:180: UserWarning: Port 8787 is already in use.\n",
      "Perhaps you already have a cluster running?\n",
      "Hosting the HTTP server on port 35287 instead\n",
      "  warnings.warn(\n",
      "<slurm_cluster_setup> SLURM workers ready: 10/10 \t[elapsed time 00:25 | timeout at 01:00]\n",
      "\u001b[1mACME\u001b[0m \u001b[1m\u001b[38;5;39m- INFO -\u001b[0m  Parallel computing client ready, dashboard accessible at http://10.100.32.17:35287/status\n"
     ]
    }
   ],
   "source": [
    "myClient = esi_cluster_setup(n_workers=10, partition=\"8GBXS\")"
   ]
  },
  {
   "cell_type": "code",
   "execution_count": 3,
   "id": "ef64aa1c",
   "metadata": {},
   "outputs": [
    {
     "name": "stderr",
     "output_type": "stream",
     "text": [
      "\u001b[1mACME\u001b[0m \u001b[1m\u001b[38;5;39m> ANNOUNCE <\u001b[0m\u001b[1m  This is ACME v. 2023.4\u001b[0m\n",
      "\u001b[1mACME\u001b[0m \u001b[1m\u001b[38;5;39m- INFO -\u001b[0m  Attaching to parallel computing client <Client: 'tcp://10.100.32.17:35271' processes=10 threads=10, memory=74.50 GiB>\n",
      "\u001b[1mACME\u001b[0m \u001b[1m\u001b[38;5;39m- INFO -\u001b[0m  Preparing 21 parallel calls of `compute_connectome` using 10 workers\n",
      "100% |██████████| 21/21 [01:36<00:00]\n",
      "\u001b[1mACME\u001b[0m \u001b[1m\u001b[38;5;39m> ANNOUNCE <\u001b[0m\u001b[1m  SUCCESS!\u001b[0m\n",
      "\u001b[1mACME\u001b[0m \u001b[1m\u001b[38;5;39m- INFO -\u001b[0m  Results have been saved to /cs/home/fuertingers/ACME_20230713-102727-129102/compute_connectome.h5\n"
     ]
    }
   ],
   "source": [
    "with ParallelMap(compute_connectome, subjectList, result_shape=(264, 264, None)) as pmap:\n",
    "    results = pmap.compute()"
   ]
  },
  {
   "cell_type": "code",
   "execution_count": null,
   "id": "ee2456e3-2b7f-4351-8cc1-648247e3662d",
   "metadata": {},
   "outputs": [],
   "source": []
  }
 ],
 "metadata": {
  "kernelspec": {
   "display_name": "ESI Python (2023a)",
   "language": "python",
   "name": "esi-2023a"
  },
  "language_info": {
   "codemirror_mode": {
    "name": "ipython",
    "version": 3
   },
   "file_extension": ".py",
   "mimetype": "text/x-python",
   "name": "python",
   "nbconvert_exporter": "python",
   "pygments_lexer": "ipython3",
   "version": "3.10.8"
  }
 },
 "nbformat": 4,
 "nbformat_minor": 5
}
