{
 "cells": [
  {
   "cell_type": "markdown",
   "id": "d42aedc0-634d-40da-863a-27a8335c06e4",
   "metadata": {},
   "source": [
    "Here some very great introduction..."
   ]
  },
  {
   "cell_type": "code",
   "execution_count": 1,
   "id": "ad432f17-8ae8-4b1b-9cb7-6c0fc06b0c19",
   "metadata": {},
   "outputs": [],
   "source": [
    "from newton_tools import newton_method, create_grid"
   ]
  },
  {
   "cell_type": "code",
   "execution_count": null,
   "id": "42132dea-f813-4692-bf44-dd58bb1df785",
   "metadata": {},
   "outputs": [],
   "source": [
    "Z0 = create_grid(xmin=-1.5, xmax=-1.5, ymin=-1.5, ymax=1.5)\n"
   ]
  }
 ],
 "metadata": {
  "kernelspec": {
   "display_name": "ESI Python for POWER (2023a)",
   "language": "python",
   "name": "esi-2023a"
  },
  "language_info": {
   "codemirror_mode": {
    "name": "ipython",
    "version": 3
   },
   "file_extension": ".py",
   "mimetype": "text/x-python",
   "name": "python",
   "nbconvert_exporter": "python",
   "pygments_lexer": "ipython3",
   "version": "3.10.7"
  }
 },
 "nbformat": 4,
 "nbformat_minor": 5
}
