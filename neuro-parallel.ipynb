{
 "cells": [
  {
   "cell_type": "code",
   "execution_count": 1,
   "id": "67841719-1c54-4dd1-bc52-21d78678c746",
   "metadata": {},
   "outputs": [],
   "source": [
    "%matplotlib widget\n",
    "import os\n",
    "import shutil\n",
    "import getpass\n",
    "import subprocess\n",
    "\n",
    "from nilearn_tools import compute_connectome, subjectList\n",
    "from acme import ParallelMap, esi_cluster_setup"
   ]
  },
  {
   "cell_type": "code",
   "execution_count": 2,
   "id": "ccbccb68-33d5-4846-a4e7-25ee8edd6ca8",
   "metadata": {},
   "outputs": [],
   "source": [
    "saveto=\"neuro-bsp\"\n",
    "\n",
    "outfolder = os.path.join(os.path.abspath(os.path.expanduser(f\"/cs/home/{getpass.getuser()}\")), saveto)\n",
    "shutil.rmtree(outfolder, ignore_errors=True)\n",
    "os.makedirs(outfolder, exist_ok=True)"
   ]
  },
  {
   "cell_type": "code",
   "execution_count": 3,
   "id": "fe2a938e",
   "metadata": {},
   "outputs": [
    {
     "name": "stderr",
     "output_type": "stream",
     "text": [
      "/opt/conda/envs/esi-2023a/lib/python3.10/site-packages/distributed/node.py:180: UserWarning: Port 8787 is already in use.\n",
      "Perhaps you already have a cluster running?\n",
      "Hosting the HTTP server on port 37981 instead\n",
      "  warnings.warn(\n",
      "<slurm_cluster_setup> SLURM workers ready: 10/10 \t[elapsed time 00:13 | timeout at 01:00]\n",
      "\u001b[1mACME\u001b[0m \u001b[1m\u001b[38;5;39m- INFO -\u001b[0m  Parallel computing client ready, dashboard accessible at http://10.100.32.17:37981/status\n"
     ]
    }
   ],
   "source": [
    "myClient = esi_cluster_setup(n_workers=10, partition=\"8GBXS\")"
   ]
  },
  {
   "cell_type": "code",
   "execution_count": 8,
   "id": "ef64aa1c",
   "metadata": {},
   "outputs": [
    {
     "name": "stderr",
     "output_type": "stream",
     "text": [
      "\u001b[1mACME\u001b[0m \u001b[1m\u001b[38;5;39m> ANNOUNCE <\u001b[0m\u001b[1m  This is ACME v. 2023.4\u001b[0m\n",
      "\u001b[1mACME\u001b[0m \u001b[1m\u001b[38;5;39m- INFO -\u001b[0m  Attaching to parallel computing client <Client: 'tcp://10.100.32.17:32851' processes=10 threads=10, memory=74.50 GiB>\n",
      "\u001b[1mACME\u001b[0m \u001b[1m\u001b[38;5;39m- INFO -\u001b[0m  Preparing 21 parallel calls of `compute_connectome` using 10 workers\n",
      "100% |██████████| 21/21 [02:00<00:00]\n",
      "\u001b[1mACME\u001b[0m \u001b[1m\u001b[38;5;39m> ANNOUNCE <\u001b[0m\u001b[1m  SUCCESS!\u001b[0m\n",
      "\u001b[1mACME\u001b[0m \u001b[1m\u001b[38;5;39m- INFO -\u001b[0m  Results have been saved to /cs/home/fuertingers/neuro-bsp/compute_connectome.h5\n"
     ]
    }
   ],
   "source": [
    "with ParallelMap(compute_connectome, subjectList, outfolder, output_dir=outfolder, result_shape=(264, 264, None)) as pmap:\n",
    "    results = pmap.compute()"
   ]
  },
  {
   "cell_type": "code",
   "execution_count": 11,
   "id": "6afeaa01-b1c3-4e81-b228-d583a28afb21",
   "metadata": {},
   "outputs": [
    {
     "data": {
      "text/plain": [
       "CompletedProcess(args='convert -size 1280x960 -delay 0 -loop 0 $(ls /cs/home/fuertingers/neuro-bsp/*.png | sort -V) /cs/home/fuertingers/neuro-bsp/neuro-bsp.gif', returncode=0, stdout='')"
      ]
     },
     "execution_count": 11,
     "metadata": {},
     "output_type": "execute_result"
    }
   ],
   "source": [
    "imgs = os.path.join(outfolder, \"*.png\")\n",
    "gif = os.path.join(outfolder, f\"{saveto}.gif\")\n",
    "subprocess.run(f\"convert -size 1280x960 -delay 0 -loop 0 $(ls {imgs} | sort -V) {gif}\",\n",
    "               text=True, shell=True, check=True,\n",
    "               stdout=subprocess.PIPE, stderr=subprocess.STDOUT)"
   ]
  },
  {
   "cell_type": "code",
   "execution_count": 12,
   "id": "46f0ea77-8d52-4a44-bf2e-1eab33078bd3",
   "metadata": {},
   "outputs": [
    {
     "data": {
      "text/plain": [
       "'/gs/home/fuertingers/neuro-bsp.gif'"
      ]
     },
     "execution_count": 12,
     "metadata": {},
     "output_type": "execute_result"
    }
   ],
   "source": [
    "shutil.copy(gif, os.path.abspath(os.path.expanduser(\"~\")))"
   ]
  }
 ],
 "metadata": {
  "kernelspec": {
   "display_name": "ESI Python (2023a)",
   "language": "python",
   "name": "esi-2023a"
  },
  "language_info": {
   "codemirror_mode": {
    "name": "ipython",
    "version": 3
   },
   "file_extension": ".py",
   "mimetype": "text/x-python",
   "name": "python",
   "nbconvert_exporter": "python",
   "pygments_lexer": "ipython3",
   "version": "3.10.8"
  }
 },
 "nbformat": 4,
 "nbformat_minor": 5
}
