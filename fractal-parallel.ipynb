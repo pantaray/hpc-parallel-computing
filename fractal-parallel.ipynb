{
 "cells": [
  {
   "cell_type": "code",
   "execution_count": 1,
   "id": "ad432f17-8ae8-4b1b-9cb7-6c0fc06b0c19",
   "metadata": {},
   "outputs": [],
   "source": [
    "%matplotlib widget\n",
    "import os\n",
    "import shutil\n",
    "import getpass\n",
    "import subprocess\n",
    "import numpy as np\n",
    "\n",
    "from newton_tools import create_grid, compute_fractals\n",
    "from acme import esi_cluster_setup, ParallelMap"
   ]
  },
  {
   "cell_type": "code",
   "execution_count": 2,
   "id": "adbf9ceb",
   "metadata": {},
   "outputs": [],
   "source": [
    "# Beispiel 1a\n",
    "f = lambda x,c: x**3 - 2*x + c\n",
    "df = lambda x: 3*x**2 - 2\n",
    "fstr = \"$x^3 - 2x + {c0:.2f}$\"\n",
    "xmin = -5\n",
    "xmax = 5 \n",
    "ymin = -5 \n",
    "ymax = 5\n",
    "cmin = 1.1\n",
    "cmax = 3\n",
    "saveto = \"bsp1\"\n",
    "\n",
    "# # Beispiel 2\n",
    "# f = lambda x,c: np.cosh(x) - c\n",
    "# df = np.sinh\n",
    "# fstr = \"$cosh x - {c0:.2f}$\"\n",
    "# xmin = -3\n",
    "# xmax = 3 \n",
    "# ymin = -3 \n",
    "# ymax = 3\n",
    "# cmin = 1.0\n",
    "# cmax = 2.0\n",
    "# saveto = \"bsp2\"\n",
    "\n",
    "# # Beispiel 3\n",
    "# f = lambda x,c: -c*x * np.sin(x)\n",
    "# df = lambda x: -np.cos(x)\n",
    "# fstr = \"$-{c0:.2f}x sin x$\"\n",
    "# xmin = -0.75\n",
    "# xmax = 0.75 \n",
    "# ymin = -0.75\n",
    "# ymax = 0.75\n",
    "# cmin = 1.5\n",
    "# cmax = 2.5\n",
    "# saveto = \"bsp3\"\n",
    "\n",
    "Nc = 100\n",
    "outfolder = os.path.join(os.path.abspath(os.path.expanduser(f\"/cs/home/{getpass.getuser()}\")), saveto)\n",
    "shutil.rmtree(outfolder, ignore_errors=True)\n",
    "os.makedirs(outfolder, exist_ok=True)\n",
    "c = np.linspace(cmin, cmax, Nc)\n",
    "Z = create_grid(xmin=xmin, xmax=xmax, ymin=ymin, ymax=ymax)"
   ]
  },
  {
   "cell_type": "code",
   "execution_count": 3,
   "id": "c50cfa61",
   "metadata": {},
   "outputs": [
    {
     "name": "stderr",
     "output_type": "stream",
     "text": [
      "<slurm_cluster_setup> SLURM workers ready: 40/40 \t[elapsed time 00:44 | timeout at 01:00]\n",
      "\u001b[1mACME\u001b[0m \u001b[1m\u001b[38;5;39m- INFO -\u001b[0m  Parallel computing client ready, dashboard accessible at http://10.100.33.106:8787/status\n"
     ]
    }
   ],
   "source": [
    "# myClient = esi_cluster_setup(n_workers=10, partition=\"8GBXS\")\n",
    "myClient = esi_cluster_setup(n_workers=40, mem_per_worker=\"4GB\", partition=\"E880\", n_cores=2, interactive=False)"
   ]
  },
  {
   "cell_type": "code",
   "execution_count": 4,
   "id": "27c98f8e",
   "metadata": {},
   "outputs": [
    {
     "name": "stderr",
     "output_type": "stream",
     "text": [
      "\u001b[1mACME\u001b[0m \u001b[1m\u001b[38;5;39m> ANNOUNCE <\u001b[0m\u001b[1m  This is ACME v. 2023.4\u001b[0m\n",
      "\u001b[1mACME\u001b[0m \u001b[1m\u001b[35m! WARNING !\u001b[0m <prepare_input> Found a single callable object in positional arguments. It will be executed just once and shared by all workers\n",
      "\u001b[1mACME\u001b[0m \u001b[1m\u001b[35m! WARNING !\u001b[0m <prepare_input> Found a single callable object in positional arguments. It will be executed just once and shared by all workers\n",
      "\u001b[1mACME\u001b[0m \u001b[1m\u001b[38;5;39m- INFO -\u001b[0m  Attaching to parallel computing client <Client: 'tcp://10.100.33.106:40435' processes=40 threads=80, memory=149.20 GiB>\n",
      "\u001b[1mACME\u001b[0m \u001b[1m\u001b[38;5;39m- INFO -\u001b[0m  Preparing 100 parallel calls of `compute_fractals` using 40 workers\n",
      "100% |██████████| 100/100 [01:35<00:00]\n",
      "\u001b[1mACME\u001b[0m \u001b[1m\u001b[38;5;39m> ANNOUNCE <\u001b[0m\u001b[1m  SUCCESS!\u001b[0m\n",
      "\u001b[1mACME\u001b[0m \u001b[1m\u001b[38;5;39m- INFO -\u001b[0m  Results have been saved to /cs/home/fuertingers/bsp1/compute_fractals.h5\n"
     ]
    }
   ],
   "source": [
    "with ParallelMap(\n",
    "    compute_fractals, \n",
    "    f=f, \n",
    "    df=df, \n",
    "    z0=Z, \n",
    "    c0=c, \n",
    "    domain=[xmin, xmax, ymin, ymax], \n",
    "    fstr=fstr, \n",
    "    idx=range(c.size), \n",
    "    outfolder=outfolder, \n",
    "    n_inputs=c.size, \n",
    "    output_dir=outfolder\n",
    "    ) as pmap:\n",
    "    results = pmap.compute()"
   ]
  },
  {
   "cell_type": "code",
   "execution_count": 5,
   "id": "24f9db81",
   "metadata": {},
   "outputs": [
    {
     "data": {
      "text/plain": [
       "CompletedProcess(args='convert -size 1280x960 -delay 0 -loop 0 $(ls /cs/home/fuertingers/bsp1/*.png | sort -V) /cs/home/fuertingers/bsp1/bsp1.gif', returncode=0, stdout='')"
      ]
     },
     "execution_count": 5,
     "metadata": {},
     "output_type": "execute_result"
    }
   ],
   "source": [
    "imgs = os.path.join(outfolder, \"*.png\")\n",
    "gif = os.path.join(outfolder, f\"{saveto}.gif\")\n",
    "subprocess.run(f\"convert -size 1280x960 -delay 0 -loop 0 $(ls {imgs} | sort -V) {gif}\",\n",
    "               text=True, shell=True, check=True,\n",
    "               stdout=subprocess.PIPE, stderr=subprocess.STDOUT)"
   ]
  },
  {
   "cell_type": "code",
   "execution_count": 6,
   "id": "4e70bad6-a1bb-417a-9352-edc5143cc761",
   "metadata": {},
   "outputs": [
    {
     "data": {
      "text/plain": [
       "'/gs/home/fuertingers/bsp1.gif'"
      ]
     },
     "execution_count": 6,
     "metadata": {},
     "output_type": "execute_result"
    }
   ],
   "source": [
    "shutil.copy(gif, os.path.abspath(os.path.expanduser(\"~\")))"
   ]
  }
 ],
 "metadata": {
  "kernelspec": {
   "display_name": "ESI Python for POWER (2023a)",
   "language": "python",
   "name": "esi-2023a"
  },
  "language_info": {
   "codemirror_mode": {
    "name": "ipython",
    "version": 3
   },
   "file_extension": ".py",
   "mimetype": "text/x-python",
   "name": "python",
   "nbconvert_exporter": "python",
   "pygments_lexer": "ipython3",
   "version": "3.10.7"
  }
 },
 "nbformat": 4,
 "nbformat_minor": 5
}
